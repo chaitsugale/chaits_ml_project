{
 "cells": [
  {
   "cell_type": "code",
   "execution_count": 1,
   "metadata": {},
   "outputs": [],
   "source": [
    "import pandas as pd\n",
    "\n",
    "import numpy as np\n",
    "%matplotlib inline\n",
    "import matplotlib. pyplot as plt\n",
    "import matplotlib\n",
    "from sklearn.preprocessing import MinMaxScaler\n",
    "from keras.layers import LSTM, Dense, Dropout\n",
    "from sklearn.model_selection import TimeSeriesSplit\n",
    "from sklearn.metrics import mean_squared_error, r2_score\n",
    "import matplotlib. dates as mandates\n",
    "from sklearn.preprocessing import MinMaxScaler\n",
    "from sklearn import linear_model\n",
    "from keras.models import Sequential\n",
    "from keras.layers import Dense\n",
    "import keras.backend as K\n",
    "from keras.callbacks import EarlyStopping\n",
    "from tensorflow.keras.optimizers import Adam\n",
    "from keras.models import load_model\n",
    "from keras.layers import LSTM\n",
    "from keras.utils.vis_utils import plot_model"
   ]
  },
  {
   "cell_type": "code",
   "execution_count": 2,
   "metadata": {},
   "outputs": [],
   "source": [
    "df = pd.read_csv('HDFCBANK.NS_data.csv',index_col='Date',parse_dates=True,infer_datetime_format=True)"
   ]
  },
  {
   "cell_type": "code",
   "execution_count": 3,
   "metadata": {},
   "outputs": [],
   "source": [
    "df1 = pd.read_csv('NSE-TATAGLOBAL.csv')"
   ]
  },
  {
   "cell_type": "code",
   "execution_count": 4,
   "metadata": {},
   "outputs": [
    {
     "data": {
      "text/plain": [
       "(2035, 8)"
      ]
     },
     "execution_count": 4,
     "metadata": {},
     "output_type": "execute_result"
    }
   ],
   "source": [
    "df1.shape"
   ]
  },
  {
   "cell_type": "code",
   "execution_count": 5,
   "metadata": {},
   "outputs": [
    {
     "data": {
      "text/html": [
       "<div>\n",
       "<style scoped>\n",
       "    .dataframe tbody tr th:only-of-type {\n",
       "        vertical-align: middle;\n",
       "    }\n",
       "\n",
       "    .dataframe tbody tr th {\n",
       "        vertical-align: top;\n",
       "    }\n",
       "\n",
       "    .dataframe thead th {\n",
       "        text-align: right;\n",
       "    }\n",
       "</style>\n",
       "<table border=\"1\" class=\"dataframe\">\n",
       "  <thead>\n",
       "    <tr style=\"text-align: right;\">\n",
       "      <th></th>\n",
       "      <th>Open</th>\n",
       "      <th>High</th>\n",
       "      <th>Low</th>\n",
       "      <th>Close</th>\n",
       "      <th>Volume</th>\n",
       "      <th>Dividends</th>\n",
       "      <th>Stock Splits</th>\n",
       "    </tr>\n",
       "    <tr>\n",
       "      <th>Date</th>\n",
       "      <th></th>\n",
       "      <th></th>\n",
       "      <th></th>\n",
       "      <th></th>\n",
       "      <th></th>\n",
       "      <th></th>\n",
       "      <th></th>\n",
       "    </tr>\n",
       "  </thead>\n",
       "  <tbody>\n",
       "    <tr>\n",
       "      <th>2012-01-02 00:00:00+05:30</th>\n",
       "      <td>196.197136</td>\n",
       "      <td>196.608832</td>\n",
       "      <td>191.897178</td>\n",
       "      <td>195.259384</td>\n",
       "      <td>3514998</td>\n",
       "      <td>0.0</td>\n",
       "      <td>0.0</td>\n",
       "    </tr>\n",
       "    <tr>\n",
       "      <th>2012-01-03 00:00:00+05:30</th>\n",
       "      <td>197.340775</td>\n",
       "      <td>201.686481</td>\n",
       "      <td>196.700358</td>\n",
       "      <td>200.885956</td>\n",
       "      <td>3439238</td>\n",
       "      <td>0.0</td>\n",
       "      <td>0.0</td>\n",
       "    </tr>\n",
       "    <tr>\n",
       "      <th>2012-01-04 00:00:00+05:30</th>\n",
       "      <td>202.143915</td>\n",
       "      <td>203.539124</td>\n",
       "      <td>197.089179</td>\n",
       "      <td>202.784332</td>\n",
       "      <td>4871478</td>\n",
       "      <td>0.0</td>\n",
       "      <td>0.0</td>\n",
       "    </tr>\n",
       "    <tr>\n",
       "      <th>2012-01-05 00:00:00+05:30</th>\n",
       "      <td>203.104520</td>\n",
       "      <td>204.339621</td>\n",
       "      <td>201.411977</td>\n",
       "      <td>202.944412</td>\n",
       "      <td>3380606</td>\n",
       "      <td>0.0</td>\n",
       "      <td>0.0</td>\n",
       "    </tr>\n",
       "    <tr>\n",
       "      <th>2012-01-06 00:00:00+05:30</th>\n",
       "      <td>201.732181</td>\n",
       "      <td>209.119876</td>\n",
       "      <td>200.794429</td>\n",
       "      <td>207.358719</td>\n",
       "      <td>3977222</td>\n",
       "      <td>0.0</td>\n",
       "      <td>0.0</td>\n",
       "    </tr>\n",
       "  </tbody>\n",
       "</table>\n",
       "</div>"
      ],
      "text/plain": [
       "                                 Open        High         Low       Close  \\\n",
       "Date                                                                        \n",
       "2012-01-02 00:00:00+05:30  196.197136  196.608832  191.897178  195.259384   \n",
       "2012-01-03 00:00:00+05:30  197.340775  201.686481  196.700358  200.885956   \n",
       "2012-01-04 00:00:00+05:30  202.143915  203.539124  197.089179  202.784332   \n",
       "2012-01-05 00:00:00+05:30  203.104520  204.339621  201.411977  202.944412   \n",
       "2012-01-06 00:00:00+05:30  201.732181  209.119876  200.794429  207.358719   \n",
       "\n",
       "                            Volume  Dividends  Stock Splits  \n",
       "Date                                                         \n",
       "2012-01-02 00:00:00+05:30  3514998        0.0           0.0  \n",
       "2012-01-03 00:00:00+05:30  3439238        0.0           0.0  \n",
       "2012-01-04 00:00:00+05:30  4871478        0.0           0.0  \n",
       "2012-01-05 00:00:00+05:30  3380606        0.0           0.0  \n",
       "2012-01-06 00:00:00+05:30  3977222        0.0           0.0  "
      ]
     },
     "execution_count": 5,
     "metadata": {},
     "output_type": "execute_result"
    }
   ],
   "source": [
    "df.head()"
   ]
  },
  {
   "cell_type": "code",
   "execution_count": 6,
   "metadata": {},
   "outputs": [
    {
     "data": {
      "text/plain": [
       "(2713, 7)"
      ]
     },
     "execution_count": 6,
     "metadata": {},
     "output_type": "execute_result"
    }
   ],
   "source": [
    "df.shape"
   ]
  },
  {
   "cell_type": "code",
   "execution_count": 7,
   "metadata": {},
   "outputs": [
    {
     "data": {
      "text/plain": [
       "<matplotlib.axes._subplots.AxesSubplot at 0x185793f39d0>"
      ]
     },
     "execution_count": 7,
     "metadata": {},
     "output_type": "execute_result"
    },
    {
     "data": {
      "image/png": "[encoded data removed]",
      "text/plain": [
       "<Figure size 432x288 with 1 Axes>"
      ]
     },
     "metadata": {
      "needs_background": "light"
     },
     "output_type": "display_data"
    }
   ],
   "source": [
    "df['Close'].plot()"
   ]
  },
  {
   "cell_type": "code",
   "execution_count": 8,
   "metadata": {},
   "outputs": [],
   "source": [
    "#Set Target Variable\n",
    "output_var = pd.DataFrame(df['Close'])\n",
    "#Selecting the Features\n",
    "features = ['Open','High','Low','Volume']\n"
   ]
  },
  {
   "cell_type": "code",
   "execution_count": 9,
   "metadata": {},
   "outputs": [
    {
     "data": {
      "text/html": [
       "<div>\n",
       "<style scoped>\n",
       "    .dataframe tbody tr th:only-of-type {\n",
       "        vertical-align: middle;\n",
       "    }\n",
       "\n",
       "    .dataframe tbody tr th {\n",
       "        vertical-align: top;\n",
       "    }\n",
       "\n",
       "    .dataframe thead th {\n",
       "        text-align: right;\n",
       "    }\n",
       "</style>\n",
       "<table border=\"1\" class=\"dataframe\">\n",
       "  <thead>\n",
       "    <tr style=\"text-align: right;\">\n",
       "      <th></th>\n",
       "      <th>Open</th>\n",
       "      <th>High</th>\n",
       "      <th>Low</th>\n",
       "      <th>Volume</th>\n",
       "    </tr>\n",
       "    <tr>\n",
       "      <th>Date</th>\n",
       "      <th></th>\n",
       "      <th></th>\n",
       "      <th></th>\n",
       "      <th></th>\n",
       "    </tr>\n",
       "  </thead>\n",
       "  <tbody>\n",
       "    <tr>\n",
       "      <th>2012-01-02 00:00:00+05:30</th>\n",
       "      <td>0.000000</td>\n",
       "      <td>0.000000</td>\n",
       "      <td>0.000000</td>\n",
       "      <td>0.017476</td>\n",
       "    </tr>\n",
       "    <tr>\n",
       "      <th>2012-01-03 00:00:00+05:30</th>\n",
       "      <td>0.000778</td>\n",
       "      <td>0.003410</td>\n",
       "      <td>0.003333</td>\n",
       "      <td>0.017100</td>\n",
       "    </tr>\n",
       "    <tr>\n",
       "      <th>2012-01-04 00:00:00+05:30</th>\n",
       "      <td>0.004045</td>\n",
       "      <td>0.004654</td>\n",
       "      <td>0.003603</td>\n",
       "      <td>0.024221</td>\n",
       "    </tr>\n",
       "    <tr>\n",
       "      <th>2012-01-05 00:00:00+05:30</th>\n",
       "      <td>0.004699</td>\n",
       "      <td>0.005191</td>\n",
       "      <td>0.006602</td>\n",
       "      <td>0.016808</td>\n",
       "    </tr>\n",
       "    <tr>\n",
       "      <th>2012-01-06 00:00:00+05:30</th>\n",
       "      <td>0.003765</td>\n",
       "      <td>0.008401</td>\n",
       "      <td>0.006174</td>\n",
       "      <td>0.019774</td>\n",
       "    </tr>\n",
       "  </tbody>\n",
       "</table>\n",
       "</div>"
      ],
      "text/plain": [
       "                               Open      High       Low    Volume\n",
       "Date                                                             \n",
       "2012-01-02 00:00:00+05:30  0.000000  0.000000  0.000000  0.017476\n",
       "2012-01-03 00:00:00+05:30  0.000778  0.003410  0.003333  0.017100\n",
       "2012-01-04 00:00:00+05:30  0.004045  0.004654  0.003603  0.024221\n",
       "2012-01-05 00:00:00+05:30  0.004699  0.005191  0.006602  0.016808\n",
       "2012-01-06 00:00:00+05:30  0.003765  0.008401  0.006174  0.019774"
      ]
     },
     "execution_count": 9,
     "metadata": {},
     "output_type": "execute_result"
    }
   ],
   "source": [
    "scaler = MinMaxScaler()\n",
    "feature_transform = scaler.fit_transform(df[features])\n",
    "feature_transform= pd.DataFrame(columns=features, data=feature_transform, index=df.index)\n",
    "feature_transform.head()"
   ]
  },
  {
   "cell_type": "code",
   "execution_count": 10,
   "metadata": {},
   "outputs": [],
   "source": [
    "timesplit= TimeSeriesSplit(n_splits=50)\n",
    "for train_index, test_index in timesplit.split(feature_transform):\n",
    "        X_train, X_test = feature_transform[:len(train_index)], feature_transform[len(train_index): (len(train_index)+len(test_index))]\n",
    "        y_train, y_test = output_var[:len(train_index)].values.ravel(), output_var[len(train_index): (len(train_index)+len(test_index))].values.ravel()"
   ]
  },
  {
   "cell_type": "code",
   "execution_count": 11,
   "metadata": {},
   "outputs": [],
   "source": [
    "#Process the data for LSTM\n",
    "trainX =np.array(X_train)\n",
    "testX =np.array(X_test)\n",
    "X_train = trainX.reshape(X_train.shape[0], 1, X_train.shape[1])\n",
    "X_test = testX.reshape(X_test.shape[0], 1, X_test.shape[1])\n"
   ]
  },
  {
   "cell_type": "code",
   "execution_count": 12,
   "metadata": {},
   "outputs": [],
   "source": [
    "#!pip install pydot"
   ]
  },
  {
   "cell_type": "code",
   "execution_count": 13,
   "metadata": {},
   "outputs": [],
   "source": [
    "lstm = Sequential()\n",
    "lstm.add(LSTM(64, input_shape=(1, trainX.shape[1]), activation='relu', return_sequences=False))\n",
    "lstm.add(Dense(1))\n",
    "lstm.compile(loss='mean_squared_error', optimizer='adam')\n",
    "#plot_model(lstm, show_shapes=True, show_layer_names=True)"
   ]
  },
  {
   "cell_type": "code",
   "execution_count": 14,
   "metadata": {},
   "outputs": [
    {
     "name": "stdout",
     "output_type": "stream",
     "text": [
      "Epoch 1/50\n",
      "333/333 [==============================] - 3s 3ms/step - loss: 776627.5625\n",
      "Epoch 2/50\n",
      "333/333 [==============================] - 1s 3ms/step - loss: 711664.0625\n",
      "Epoch 3/50\n",
      "333/333 [==============================] - 1s 3ms/step - loss: 617626.0625\n",
      "Epoch 4/50\n",
      "333/333 [==============================] - 1s 3ms/step - loss: 505744.8750\n",
      "Epoch 5/50\n",
      "333/333 [==============================] - 1s 3ms/step - loss: 390512.5625\n",
      "Epoch 6/50\n",
      "333/333 [==============================] - 1s 3ms/step - loss: 283356.8750\n",
      "Epoch 7/50\n",
      "333/333 [==============================] - 1s 3ms/step - loss: 192103.8750\n",
      "Epoch 8/50\n",
      "333/333 [==============================] - 1s 3ms/step - loss: 121025.3594\n",
      "Epoch 9/50\n",
      "333/333 [==============================] - 1s 3ms/step - loss: 70879.5938\n",
      "Epoch 10/50\n",
      "333/333 [==============================] - 1s 3ms/step - loss: 39341.1055\n",
      "Epoch 11/50\n",
      "333/333 [==============================] - 1s 3ms/step - loss: 21957.1328\n",
      "Epoch 12/50\n",
      "333/333 [==============================] - 1s 3ms/step - loss: 13551.8301\n",
      "Epoch 13/50\n",
      "333/333 [==============================] - 1s 3ms/step - loss: 9661.3936\n",
      "Epoch 14/50\n",
      "333/333 [==============================] - 1s 3ms/step - loss: 7401.5352\n",
      "Epoch 15/50\n",
      "333/333 [==============================] - 1s 3ms/step - loss: 5481.5552\n",
      "Epoch 16/50\n",
      "333/333 [==============================] - 1s 3ms/step - loss: 3664.1094\n",
      "Epoch 17/50\n",
      "333/333 [==============================] - 1s 3ms/step - loss: 2156.7095\n",
      "Epoch 18/50\n",
      "333/333 [==============================] - 1s 3ms/step - loss: 1158.7451\n",
      "Epoch 19/50\n",
      "333/333 [==============================] - 1s 3ms/step - loss: 632.0602\n",
      "Epoch 20/50\n",
      "333/333 [==============================] - 1s 3ms/step - loss: 404.0749\n",
      "Epoch 21/50\n",
      "333/333 [==============================] - 1s 3ms/step - loss: 319.5570\n",
      "Epoch 22/50\n",
      "333/333 [==============================] - 1s 3ms/step - loss: 287.0338\n",
      "Epoch 23/50\n",
      "333/333 [==============================] - 1s 3ms/step - loss: 267.3484\n",
      "Epoch 24/50\n",
      "333/333 [==============================] - 1s 3ms/step - loss: 249.6357\n",
      "Epoch 25/50\n",
      "333/333 [==============================] - 1s 3ms/step - loss: 233.0044\n",
      "Epoch 26/50\n",
      "333/333 [==============================] - 1s 3ms/step - loss: 218.3057\n",
      "Epoch 27/50\n",
      "333/333 [==============================] - 1s 3ms/step - loss: 206.0070\n",
      "Epoch 28/50\n",
      "333/333 [==============================] - 1s 3ms/step - loss: 196.0813\n",
      "Epoch 29/50\n",
      "333/333 [==============================] - 1s 3ms/step - loss: 188.2369\n",
      "Epoch 30/50\n",
      "333/333 [==============================] - 1s 3ms/step - loss: 182.0864\n",
      "Epoch 31/50\n",
      "333/333 [==============================] - 1s 3ms/step - loss: 177.2267\n",
      "Epoch 32/50\n",
      "333/333 [==============================] - 1s 3ms/step - loss: 173.2775\n",
      "Epoch 33/50\n",
      "333/333 [==============================] - 1s 3ms/step - loss: 169.9028\n",
      "Epoch 34/50\n",
      "333/333 [==============================] - 1s 3ms/step - loss: 166.8247\n",
      "Epoch 35/50\n",
      "333/333 [==============================] - 1s 3ms/step - loss: 163.8336\n",
      "Epoch 36/50\n",
      "333/333 [==============================] - 1s 3ms/step - loss: 160.7927\n",
      "Epoch 37/50\n",
      "333/333 [==============================] - 1s 3ms/step - loss: 157.6351\n",
      "Epoch 38/50\n",
      "333/333 [==============================] - 1s 3ms/step - loss: 154.3501\n",
      "Epoch 39/50\n",
      "333/333 [==============================] - 1s 3ms/step - loss: 150.9653\n",
      "Epoch 40/50\n",
      "333/333 [==============================] - 1s 3ms/step - loss: 147.5294\n",
      "Epoch 41/50\n",
      "333/333 [==============================] - 1s 3ms/step - loss: 144.0942\n",
      "Epoch 42/50\n",
      "333/333 [==============================] - 1s 3ms/step - loss: 140.7068\n",
      "Epoch 43/50\n",
      "333/333 [==============================] - 1s 3ms/step - loss: 137.4035\n",
      "Epoch 44/50\n",
      "333/333 [==============================] - 1s 3ms/step - loss: 134.2104\n",
      "Epoch 45/50\n",
      "333/333 [==============================] - 1s 3ms/step - loss: 131.1432\n",
      "Epoch 46/50\n",
      "333/333 [==============================] - 1s 3ms/step - loss: 128.2099\n",
      "Epoch 47/50\n",
      "333/333 [==============================] - 1s 3ms/step - loss: 125.4153\n",
      "Epoch 48/50\n",
      "333/333 [==============================] - 1s 3ms/step - loss: 122.7589\n",
      "Epoch 49/50\n",
      "333/333 [==============================] - 1s 3ms/step - loss: 120.2368\n",
      "Epoch 50/50\n",
      "333/333 [==============================] - 1s 3ms/step - loss: 117.8447\n"
     ]
    }
   ],
   "source": [
    "history=lstm.fit(X_train, y_train, epochs=50, batch_size=8, verbose=1, shuffle=False)"
   ]
  },
  {
   "cell_type": "code",
   "execution_count": 15,
   "metadata": {},
   "outputs": [],
   "source": [
    "#LSTM Prediction\n",
    "y_pred= lstm.predict(X_test)"
   ]
  },
  {
   "cell_type": "code",
   "execution_count": 16,
   "metadata": {},
   "outputs": [
    {
     "data": {
      "image/png": "[encoded data removed]",
      "text/plain": [
       "<Figure size 432x288 with 1 Axes>"
      ]
     },
     "metadata": {
      "needs_background": "light"
     },
     "output_type": "display_data"
    }
   ],
   "source": [
    "#Predicted vs True Adj Close Value – LSTM\n",
    "plt.plot(y_test, label='True Value')\n",
    "plt.plot(y_pred, label='LSTM Value')\n",
    "plt.title(\"Prediction by LSTM\")\n",
    "plt.xlabel('Time Scale')\n",
    "plt.ylabel('Scaled USD')\n",
    "plt.legend()\n",
    "plt.show()"
   ]
  },
  {
   "cell_type": "code",
   "execution_count": null,
   "metadata": {},
   "outputs": [],
   "source": []
  }
 ],
 "metadata": {
  "kernelspec": {
   "display_name": "Python 3",
   "language": "python",
   "name": "python3"
  },
  "language_info": {
   "codemirror_mode": {
    "name": "ipython",
    "version": 3
   },
   "file_extension": ".py",
   "mimetype": "text/x-python",
   "name": "python",
   "nbconvert_exporter": "python",
   "pygments_lexer": "ipython3",
   "version": "3.8.3"
  }
 },
 "nbformat": 4,
 "nbformat_minor": 4
}
